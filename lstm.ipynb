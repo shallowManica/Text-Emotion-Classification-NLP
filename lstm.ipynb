{
 "cells": [
  {
   "cell_type": "code",
   "execution_count": null,
   "metadata": {
    "ExecuteTime": {
     "end_time": "2024-04-04T14:19:36.619341400Z",
     "start_time": "2024-04-04T14:19:36.570334Z"
    }
   },
   "outputs": [
    {
     "data": {
      "text/plain": [
       "True"
      ]
     },
     "execution_count": 12,
     "metadata": {},
     "output_type": "execute_result"
    }
   ],
   "source": [
    "import numpy as np\n",
    "import pandas as pd\n",
    "import torch\n",
    "import torch.nn as nn\n",
    "import torch.nn.functional as F\n",
    "from torch.nn.utils.rnn import pad_sequence\n",
    "from torch.utils.data import TensorDataset, DataLoader\n",
    "from torchtext.data.utils import get_tokenizer\n",
    "from torchtext.vocab import build_vocab_from_iterator\n",
    "import spacy\n",
    "import os\n",
    "import matplotlib.pyplot as plt\n",
    "from sklearn.model_selection import train_test_split\n",
    "from nltk.corpus import stopwords\n",
    "torch.cuda.is_available()"
   ]
  },
  {
   "cell_type": "code",
   "execution_count": 13,
   "metadata": {
    "ExecuteTime": {
     "end_time": "2024-04-04T14:19:39.343890400Z",
     "start_time": "2024-04-04T14:19:38.330748100Z"
    }
   },
   "outputs": [
    {
     "name": "stdout",
     "output_type": "stream",
     "text": [
      "                                                text  label\n",
      "0      i just feel really helpless and heavy hearted      4\n",
      "1  ive enjoyed being able to slouch about relax a...      0\n",
      "2  i gave up my internship with the dmrg and am f...      4\n",
      "3                         i dont know i feel so lost      0\n",
      "4  i am a kindergarten teacher and i am thoroughl...      4\n",
      "               label\n",
      "count  416809.000000\n",
      "mean        1.554271\n",
      "std         1.490453\n",
      "min         0.000000\n",
      "25%         0.000000\n",
      "50%         1.000000\n",
      "75%         3.000000\n",
      "max         5.000000\n"
     ]
    }
   ],
   "source": [
    "# data preprocessing\n",
    "df = pd.read_csv('text.csv')\n",
    "df = df.drop_duplicates()\n",
    "\n",
    "# change the text to one form\n",
    "df['text'] = df['text'].str.lower().str.replace('[^a-z\\s]', '', regex=True)\n",
    "df = df[['text', 'label']]\n",
    "print(df.head())\n",
    "print(df.describe())\n",
    "\n",
    "# sadness (0), joy (1), love (2), anger (3), fear (4), surprise (5)\n",
    "cls_list = sorted(df['label'].unique().tolist())\n",
    "cls_count = df['label'].value_counts()\n",
    "mapping = {0: 'sadness', 1: 'joy', 2: 'love', 3: 'anger', 4: 'fear', 5: 'surprise'}\n",
    "# print(cls_list)\n",
    "# print(cls_count)"
   ]
  },
  {
   "cell_type": "code",
   "execution_count": 15,
   "metadata": {
    "ExecuteTime": {
     "end_time": "2024-04-04T14:19:59.419279200Z",
     "start_time": "2024-04-04T14:19:58.395231100Z"
    },
    "collapsed": false
   },
   "outputs": [
    {
     "name": "stderr",
     "output_type": "stream",
     "text": [
      "[nltk_data] Downloading package stopwords to\n",
      "[nltk_data]     C:\\Users\\benro\\AppData\\Roaming\\nltk_data...\n",
      "[nltk_data]   Unzipping corpora\\stopwords.zip.\n"
     ]
    }
   ],
   "source": [
    "import nltk\n",
    "nltk.download('stopwords')\n",
    "\n",
    "stop_words = set(stopwords.words('english'))\n",
    "\n",
    "def remove_stopwords(text):\n",
    "    # obtain a list of separated words from the sentence\n",
    "    text_split = text.split()\n",
    "    # construct a new list with stop words removed\n",
    "    words_nostop = [w for w in text_split if w not in stop_words]\n",
    "\n",
    "    return \" \".join(words_nostop)\n",
    "\n",
    "# remove the stop words in df\n",
    "df[\"text\"] = df[\"text\"].apply(remove_stopwords)"
   ]
  },
  {
   "cell_type": "code",
   "execution_count": 16,
   "metadata": {
    "ExecuteTime": {
     "end_time": "2024-04-04T14:20:15.043436Z",
     "start_time": "2024-04-04T14:20:07.566815600Z"
    },
    "collapsed": false
   },
   "outputs": [
    {
     "name": "stderr",
     "output_type": "stream",
     "text": [
      "416809lines [00:02, 194526.26lines/s]\n"
     ]
    }
   ],
   "source": [
    "tokenizer = get_tokenizer('basic_english')\n",
    "\n",
    "# tokenize text in the df and build vocabulary\n",
    "def yield_tokens(df):\n",
    "    for text in df['text']:\n",
    "        yield tokenizer(text)\n",
    "\n",
    "vocab = build_vocab_from_iterator(yield_tokens(df))\n",
    "\n",
    "text = [[vocab[token] for token in tokenizer(sentence)] for sentence in df['text']]\n",
    "sequences = pad_sequence([torch.tensor(seq) for seq in text], batch_first=True, padding_value=vocab[\"<unk>\"])\n",
    "\n",
    "# split the data into train and test set\n",
    "x_train, x_test, y_train, y_test = train_test_split(sequences, df['label'], train_size=0.8, shuffle=True, stratify=df['label'])\n",
    "# change the type of labels in the dataset to tensor\n",
    "y_train_tensor = torch.tensor(y_train.values if isinstance(y_train, pd.Series) else y_train)\n",
    "y_test_tensor = torch.tensor(y_test.values if isinstance(y_test, pd.Series) else y_test)\n",
    "\n",
    "# create TensorDataset for both training and testing sets\n",
    "train_dataset = TensorDataset(x_train, y_train_tensor)\n",
    "test_dataset = TensorDataset(x_test, y_test_tensor)\n",
    "\n",
    "batch_size = 64\n",
    "train_loader = DataLoader(train_dataset, batch_size=batch_size, shuffle=True)\n",
    "test_loader = DataLoader(test_dataset, batch_size=batch_size, shuffle=False)"
   ]
  },
  {
   "cell_type": "code",
   "execution_count": 17,
   "metadata": {
    "ExecuteTime": {
     "end_time": "2024-04-04T14:20:19.591573200Z",
     "start_time": "2024-04-04T14:20:19.585573800Z"
    },
    "collapsed": false
   },
   "outputs": [
    {
     "name": "stdout",
     "output_type": "stream",
     "text": [
      "(tensor([   4, 7829, 1405, 1473,    2,  607,  546, 4256,    0,    0,    0,    0,\n",
      "           0,    0,    0,    0,    0,    0,    0,    0,    0,    0,    0,    0,\n",
      "           0,    0,    0,    0,    0,    0,    0,    0,    0,    0,    0,    0,\n",
      "           0,    0,    0,    0,    0,    0,    0,    0,    0,    0,    0,    0,\n",
      "           0,    0,    0,    0,    0,    0,    0,    0,    0,    0,    0,    0,\n",
      "           0,    0,    0,    0,    0,    0,    0,    0,    0,    0,    0,    0,\n",
      "           0,    0,    0,    0,    0,    0,    0]), tensor(0))\n"
     ]
    }
   ],
   "source": [
    "print(train_dataset[9990])"
   ]
  },
  {
   "cell_type": "code",
   "execution_count": null,
   "metadata": {
    "ExecuteTime": {
     "end_time": "2024-04-04T14:20:24.413432500Z",
     "start_time": "2024-04-04T14:20:24.400729Z"
    },
    "collapsed": false
   },
   "outputs": [],
   "source": [
    "class LSTM(nn.Module):\n",
    "    def __init__(self, vocab_size, embedding_dim, num_classes):\n",
    "        super(LSTM, self).__init__()\n",
    "        self.embedding = nn.Embedding(vocab_size, embedding_dim)\n",
    "        self.dropout1 = nn.Dropout(0.1)\n",
    "        self.conv1d = nn.Conv1d(embedding_dim, 128, kernel_size=3, padding=1)  # added padding for size compatibility\n",
    "        self.maxpool1d = nn.MaxPool1d(kernel_size=3)\n",
    "        self.lstm = nn.LSTM(128, 64, batch_first=True, bidirectional=True)\n",
    "        self.dropout2 = nn.Dropout(0.1)\n",
    "        self.fc1 = nn.Linear(64*2, 512)  # 64*2 for bidirectional\n",
    "        self.dropout3 = nn.Dropout(0.1)\n",
    "        self.fc2 = nn.Linear(512, num_classes)\n",
    "\n",
    "    def forward(self, x):\n",
    "        x = self.embedding(x)\n",
    "        x = self.dropout1(x)\n",
    "        x = x.permute(0, 2, 1)\n",
    "        x = F.relu(self.conv1d(x))\n",
    "        x = self.maxpool1d(x)\n",
    "        x, _ = self.lstm(x.permute(0, 2, 1))\n",
    "        x = self.dropout2(x[:, -1, :])\n",
    "        x = F.relu(self.fc1(x))\n",
    "        x = self.dropout3(x)\n",
    "        x = self.fc2(x)\n",
    "        return F.log_softmax(x, dim=1)"
   ]
  },
  {
   "cell_type": "code",
   "execution_count": 19,
   "metadata": {
    "ExecuteTime": {
     "end_time": "2024-04-04T14:20:25.349940300Z",
     "start_time": "2024-04-04T14:20:25.329939300Z"
    },
    "collapsed": false
   },
   "outputs": [],
   "source": [
    "def train_and_validate(model, train_loader, val_loader, criterion, optimizer, device):\n",
    "    model = model.to(device)\n",
    "\n",
    "    train_accuracies, val_accuracies = [], []\n",
    "    train_losses, val_losses = [], []\n",
    "\n",
    "    epochs = 30\n",
    "    for epoch in range(epochs):\n",
    "        model.train()\n",
    "        train_correct, train_total, train_loss = 0, 0, 0\n",
    "\n",
    "        for inputs, labels in train_loader:\n",
    "            inputs, labels = inputs.to(device), labels.to(device)\n",
    "\n",
    "            optimizer.zero_grad()  # zero the parameter gradients\n",
    "            outputs = model.forward(inputs)  # forward pass\n",
    "            loss = criterion(outputs, labels)\n",
    "            loss.backward()\n",
    "            optimizer.step()\n",
    "\n",
    "            _, predicted = torch.max(outputs.data, 1)\n",
    "            train_total += labels.size(0)\n",
    "            train_correct += (predicted == labels).sum().item()\n",
    "            train_loss += loss.item()\n",
    "\n",
    "        train_accuracy = 100 * train_correct / train_total\n",
    "        train_accuracies.append(train_accuracy)\n",
    "        train_losses.append(train_loss / len(train_loader))\n",
    "\n",
    "        # validation\n",
    "        model.eval()  # set model to evaluate mode\n",
    "        val_correct, val_total, val_loss = 0, 0, 0\n",
    "\n",
    "        with torch.no_grad():\n",
    "            for inputs, labels in val_loader:\n",
    "                inputs, labels = inputs.to(device), labels.to(device)\n",
    "                outputs = model(inputs)\n",
    "                loss = criterion(outputs, labels)\n",
    "\n",
    "                _, predicted = torch.max(outputs.data, 1)\n",
    "                val_total += labels.size(0)\n",
    "                val_correct += (predicted == labels).sum().item()\n",
    "                val_loss += loss.item()\n",
    "\n",
    "        val_accuracy = 100 * val_correct / val_total\n",
    "        val_accuracies.append(val_accuracy)\n",
    "        val_losses.append(val_loss / len(val_loader))\n",
    "\n",
    "        print(f'Epoch {epoch+1}/{epochs} | Train Loss: {train_losses[-1]:.4f} | Train Accuracy: {train_accuracies[-1]:.2f}% | Val Loss: {val_losses[-1]:.4f} | Val Accuracy: {val_accuracies[-1]:.2f}%')\n",
    "\n",
    "    # plotting\n",
    "    plt.figure(figsize=(12, 5))\n",
    "    plt.subplot(1, 2, 1)\n",
    "    plt.plot(range(1, epochs+1), train_accuracies, label='Train Accuracy')\n",
    "    plt.plot(range(1, epochs+1), val_accuracies, label='Validation Accuracy')\n",
    "    plt.title('Accuracy vs. Epochs')\n",
    "    plt.xlabel('Epochs')\n",
    "    plt.ylabel('Accuracy')\n",
    "    plt.legend()\n",
    "\n",
    "    plt.subplot(1, 2, 2)\n",
    "    plt.plot(range(1, epochs+1), train_losses, label='Train Loss')\n",
    "    plt.plot(range(1, epochs+1), val_losses, label='Validation Loss')\n",
    "    plt.title('Loss vs. Epochs')\n",
    "    plt.xlabel('Epochs')\n",
    "    plt.ylabel('Loss')\n",
    "    plt.legend()\n",
    "\n",
    "    plt.show()\n"
   ]
  },
  {
   "cell_type": "code",
   "execution_count": 20,
   "metadata": {
    "ExecuteTime": {
     "end_time": "2024-04-04T14:32:51.912925Z",
     "start_time": "2024-04-04T14:20:26.583078800Z"
    },
    "collapsed": false
   },
   "outputs": [
    {
     "name": "stdout",
     "output_type": "stream",
     "text": [
      "Epoch 1/30 | Train Loss: 0.7031 | Train Accuracy: 72.92% | Val Loss: 0.1611 | Val Accuracy: 92.61%\n",
      "Epoch 2/30 | Train Loss: 0.1492 | Train Accuracy: 92.74% | Val Loss: 0.1282 | Val Accuracy: 93.22%\n",
      "Epoch 3/30 | Train Loss: 0.1232 | Train Accuracy: 93.28% | Val Loss: 0.1119 | Val Accuracy: 93.29%\n",
      "Epoch 4/30 | Train Loss: 0.1144 | Train Accuracy: 93.53% | Val Loss: 0.1122 | Val Accuracy: 93.57%\n",
      "Epoch 5/30 | Train Loss: 0.1101 | Train Accuracy: 93.63% | Val Loss: 0.1040 | Val Accuracy: 93.60%\n",
      "Epoch 6/30 | Train Loss: 0.1055 | Train Accuracy: 93.73% | Val Loss: 0.1055 | Val Accuracy: 93.71%\n",
      "Epoch 7/30 | Train Loss: 0.1044 | Train Accuracy: 93.78% | Val Loss: 0.1084 | Val Accuracy: 93.63%\n",
      "Epoch 8/30 | Train Loss: 0.1032 | Train Accuracy: 93.87% | Val Loss: 0.1126 | Val Accuracy: 93.64%\n",
      "Epoch 9/30 | Train Loss: 0.1020 | Train Accuracy: 93.90% | Val Loss: 0.1099 | Val Accuracy: 93.66%\n",
      "Epoch 10/30 | Train Loss: 0.1007 | Train Accuracy: 93.99% | Val Loss: 0.1104 | Val Accuracy: 93.69%\n",
      "Epoch 11/30 | Train Loss: 0.0995 | Train Accuracy: 93.98% | Val Loss: 0.1131 | Val Accuracy: 93.60%\n",
      "Epoch 12/30 | Train Loss: 0.0985 | Train Accuracy: 93.98% | Val Loss: 0.1116 | Val Accuracy: 93.80%\n",
      "Epoch 13/30 | Train Loss: 0.1008 | Train Accuracy: 94.08% | Val Loss: 0.1093 | Val Accuracy: 93.77%\n",
      "Epoch 14/30 | Train Loss: 0.1030 | Train Accuracy: 94.01% | Val Loss: 0.1078 | Val Accuracy: 93.81%\n",
      "Epoch 15/30 | Train Loss: 0.0997 | Train Accuracy: 94.04% | Val Loss: 0.1082 | Val Accuracy: 93.72%\n",
      "Epoch 16/30 | Train Loss: 0.0977 | Train Accuracy: 94.07% | Val Loss: 0.1101 | Val Accuracy: 93.75%\n",
      "Epoch 17/30 | Train Loss: 0.1002 | Train Accuracy: 94.06% | Val Loss: 0.1201 | Val Accuracy: 93.63%\n",
      "Epoch 18/30 | Train Loss: 0.0953 | Train Accuracy: 94.10% | Val Loss: 0.1186 | Val Accuracy: 93.71%\n",
      "Epoch 19/30 | Train Loss: 0.0952 | Train Accuracy: 94.14% | Val Loss: 0.1235 | Val Accuracy: 93.64%\n",
      "Epoch 20/30 | Train Loss: 0.0976 | Train Accuracy: 94.13% | Val Loss: 0.1107 | Val Accuracy: 93.61%\n",
      "Epoch 21/30 | Train Loss: 0.0953 | Train Accuracy: 94.12% | Val Loss: 0.1135 | Val Accuracy: 93.77%\n",
      "Epoch 22/30 | Train Loss: 0.0963 | Train Accuracy: 94.12% | Val Loss: 0.1122 | Val Accuracy: 93.63%\n",
      "Epoch 23/30 | Train Loss: 0.0968 | Train Accuracy: 94.12% | Val Loss: 0.1111 | Val Accuracy: 93.61%\n",
      "Epoch 24/30 | Train Loss: 0.0960 | Train Accuracy: 94.13% | Val Loss: 0.1130 | Val Accuracy: 93.56%\n",
      "Epoch 25/30 | Train Loss: 0.0965 | Train Accuracy: 94.12% | Val Loss: 0.1106 | Val Accuracy: 93.68%\n",
      "Epoch 26/30 | Train Loss: 0.0980 | Train Accuracy: 94.13% | Val Loss: 0.1081 | Val Accuracy: 93.74%\n",
      "Epoch 27/30 | Train Loss: 0.0956 | Train Accuracy: 94.15% | Val Loss: 0.1125 | Val Accuracy: 93.73%\n",
      "Epoch 28/30 | Train Loss: 0.0979 | Train Accuracy: 94.11% | Val Loss: 0.1130 | Val Accuracy: 93.66%\n",
      "Epoch 29/30 | Train Loss: 0.0972 | Train Accuracy: 94.15% | Val Loss: 0.1166 | Val Accuracy: 93.66%\n",
      "Epoch 30/30 | Train Loss: 0.0967 | Train Accuracy: 94.12% | Val Loss: 0.1191 | Val Accuracy: 93.61%\n"
     ]
    },
    {
     "data": {
      "image/png": "[encoded data removed]",
      "text/plain": [
       "<Figure size 1200x500 with 2 Axes>"
      ]
     },
     "metadata": {},
     "output_type": "display_data"
    }
   ],
   "source": [
    "model = LSTM(len(vocab), 100, 6)\n",
    "criterion = nn.CrossEntropyLoss()\n",
    "\n",
    "optimizer = torch.optim.RMSprop(model.parameters(), lr=0.002)\n",
    "train_and_validate(model, train_loader, test_loader, criterion, optimizer, device='cuda')"
   ]
  },
  {
   "cell_type": "code",
   "execution_count": 27,
   "metadata": {
    "ExecuteTime": {
     "end_time": "2024-04-05T10:41:07.352669200Z",
     "start_time": "2024-04-05T10:41:05.292438700Z"
    },
    "collapsed": false
   },
   "outputs": [
    {
     "name": "stdout",
     "output_type": "stream",
     "text": [
      "              precision    recall  f1-score   support\n",
      "\n",
      "     sadness       0.95      0.99      0.97     24238\n",
      "         joy       0.99      0.91      0.95     28214\n",
      "        love       0.78      0.99      0.87      6911\n",
      "       anger       0.96      0.91      0.94     11463\n",
      "        fear       0.94      0.85      0.89      9542\n",
      "    surprise       0.73      0.97      0.84      2994\n",
      "\n",
      "    accuracy                           0.94     83362\n",
      "   macro avg       0.89      0.94      0.91     83362\n",
      "weighted avg       0.94      0.94      0.94     83362\n",
      "\n"
     ]
    }
   ],
   "source": [
    "from sklearn.metrics import classification_report\n",
    "\n",
    "def test_model(model, test_loader, device):\n",
    "    model.eval()  # set the model to evaluation mode\n",
    "    all_preds = []\n",
    "    all_labels = []\n",
    "\n",
    "    with torch.no_grad():  # no need to track the gradients\n",
    "        for inputs, labels in test_loader:\n",
    "            inputs = inputs.to(device)\n",
    "            labels = labels.to(device)\n",
    "\n",
    "            outputs = model(inputs)\n",
    "            _, predicted = torch.max(outputs, 1)\n",
    "\n",
    "            all_preds.extend(predicted.cpu().numpy())\n",
    "            all_labels.extend(labels.cpu().numpy())\n",
    "\n",
    "    # calculate and print the classification report\n",
    "    print(classification_report(all_labels, all_preds, target_names=['sadness', 'joy', 'love', 'anger', 'fear', 'surprise']))\n",
    "\n",
    "test_model(model, test_loader, 'cuda')"
   ]
  }
 ],
 "metadata": {
  "kernelspec": {
   "display_name": "venv",
   "language": "python",
   "name": "python3"
  },
  "language_info": {
   "codemirror_mode": {
    "name": "ipython",
    "version": 3
   },
   "file_extension": ".py",
   "mimetype": "text/x-python",
   "name": "python",
   "nbconvert_exporter": "python",
   "pygments_lexer": "ipython3",
   "version": "3.9.13"
  }
 },
 "nbformat": 4,
 "nbformat_minor": 2
}
